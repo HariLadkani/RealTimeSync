{
  "nbformat": 4,
  "nbformat_minor": 0,
  "metadata": {
    "colab": {
      "provenance": []
    },
    "kernelspec": {
      "name": "python3",
      "display_name": "Python 3"
    },
    "language_info": {
      "name": "python"
    }
  },
  "cells": [
    {
      "cell_type": "code",
      "execution_count": 54,
      "metadata": {
        "colab": {
          "base_uri": "https://localhost:8080/"
        },
        "id": "rwhIv5CZgIwc",
        "outputId": "89917e8f-b255-468a-f56e-20ce289d36a9"
      },
      "outputs": [
        {
          "output_type": "stream",
          "name": "stdout",
          "text": [
            "Requirement already satisfied: pyspark in /usr/local/lib/python3.10/dist-packages (3.5.1)\n",
            "Requirement already satisfied: py4j==0.10.9.7 in /usr/local/lib/python3.10/dist-packages (from pyspark) (0.10.9.7)\n"
          ]
        }
      ],
      "source": [
        "!pip install pyspark\n",
        "from pyspark.sql.functions import when, col, filter\n",
        "from pyspark.sql import SparkSession\n",
        "\n",
        "spark = SparkSession.builder.appName(\"cdc\").getOrCreate()"
      ]
    },
    {
      "cell_type": "code",
      "source": [
        "fldf = spark.read.csv(\"/content/LOAD00000001.csv\")\n",
        "fldf = fldf.withColumnRenamed(\"_c0\",\"id\").withColumnRenamed(\"_c1\",\"FullName\").withColumnRenamed(\"_c2\", \"City\")\n",
        "fldf.write.mode(\"overwrite\").csv(\"/content/finalFile.csv\", header= True)"
      ],
      "metadata": {
        "id": "-FOmRu6yhA7a"
      },
      "execution_count": 42,
      "outputs": []
    },
    {
      "cell_type": "code",
      "source": [
        "udf = spark.read.csv(\"/content/20240803-012110611.csv\")\n",
        "udf = udf.withColumnRenamed(\"_c0\", \"action\").withColumnRenamed(\"_c1\",\"id\").withColumnRenamed(\"_c2\",\"FullName\").withColumnRenamed(\"_c3\", \"City\")\n",
        "ffdf = spark.read.csv(\"/content/finalFile.csv\", header=True)\n",
        "\n"
      ],
      "metadata": {
        "id": "OGVQSOlvjKcM"
      },
      "execution_count": 58,
      "outputs": []
    },
    {
      "cell_type": "code",
      "source": [
        "for row in udf.collect():\n",
        "  if row['action'] == 'U':\n",
        "    ffdf = ffdf.withColumn(\"FullName\", when(ffdf['id'] == row['id'], row['FullName']).otherwise(ffdf['FullName']))\n",
        "    ffdf = ffdf.withColumn(\"City\", when(ffdf['id'] == row['id'], ffdf['City']).otherwise(ffdf['City']))\n",
        "\n",
        "  if row['action'] == 'I':\n",
        "    insertedRow = [(row['id'], row['FullName'], row['City'])]\n",
        "    columns = ['id', 'FullName', 'City']\n",
        "    newdf = spark.createDataFrame(insertedRow, columns)\n",
        "    ffdf = ffdf.union(newdf)\n",
        "\n",
        "  if row['action'] == 'D':\n",
        "    ffdf = ffdf.filter(ffdf.id != row['id'])"
      ],
      "metadata": {
        "colab": {
          "base_uri": "https://localhost:8080/"
        },
        "id": "hm-1REwfk_6W",
        "outputId": "c2398310-dc64-4ffb-dae9-bc9aaadfba42"
      },
      "execution_count": 59,
      "outputs": [
        {
          "output_type": "stream",
          "name": "stdout",
          "text": [
            "Row(action='U', id='7', FullName='ABC XYZ', City='Phoenix')\n",
            "Row(action='I', id='130', FullName='Alica Bing', City='New York')\n",
            "Row(action='I', id='131', FullName='Malinda Bing', City='Detroit')\n",
            "Row(action='I', id='132', FullName='Chandler Bing', City='Portland')\n",
            "Row(action='U', id='8', FullName='ABC XYZ', City='Denver')\n",
            "Row(action='D', id='10', FullName='Jack Hicks', City='Houston')\n"
          ]
        }
      ]
    },
    {
      "cell_type": "code",
      "source": [
        "display(ffdf)"
      ],
      "metadata": {
        "colab": {
          "base_uri": "https://localhost:8080/",
          "height": 35
        },
        "id": "aGKngLM4vKqJ",
        "outputId": "23022eba-5de7-49c5-b4c2-4cf7a8eaeba6"
      },
      "execution_count": 60,
      "outputs": [
        {
          "output_type": "display_data",
          "data": {
            "text/plain": [
              "DataFrame[id: string, FullName: string, City: string]"
            ]
          },
          "metadata": {}
        }
      ]
    }
  ]
}